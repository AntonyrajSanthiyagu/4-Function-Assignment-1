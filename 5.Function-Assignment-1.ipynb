{
 "cells": [
  {
   "cell_type": "code",
   "execution_count": 5,
   "id": "66739238-094f-4f98-a409-e71e1492af1d",
   "metadata": {},
   "outputs": [],
   "source": [
    "def Subfields():\n",
    "    print(\"Sub-fields in AI are:\")\n",
    "    List=[\"Machine Learning\",\"Neural Networks\",\"Vision\",\"Robotics\",\"Speech Processing\",\"Natural Language Processing\"]\n",
    "    for i in List:\n",
    "        print(i)"
   ]
  },
  {
   "cell_type": "code",
   "execution_count": 7,
   "id": "0559d9d2-5eea-4361-ba9d-b876054e7cae",
   "metadata": {},
   "outputs": [
    {
     "name": "stdout",
     "output_type": "stream",
     "text": [
      "Sub-fields in AI are:\n",
      "Machine Learning\n",
      "Neural Networks\n",
      "Vision\n",
      "Robotics\n",
      "Speech Processing\n",
      "Natural Language Processing\n"
     ]
    }
   ],
   "source": [
    "Subfields()"
   ]
  },
  {
   "cell_type": "code",
   "execution_count": 3,
   "id": "2051b9b2-a6f4-486b-944f-af6a796b10fb",
   "metadata": {},
   "outputs": [],
   "source": [
    "def oddEven():\n",
    "    num=int(input(\"Enter the number\"))\n",
    "    if((num % 2)== 0):\n",
    "        print(num,\"is even number\")\n",
    "    else:\n",
    "        print(num,\"is odd number\")\n",
    "        "
   ]
  },
  {
   "cell_type": "code",
   "execution_count": 4,
   "id": "fb20a8f0-c3f0-48dc-85dc-de5a04a05e09",
   "metadata": {},
   "outputs": [
    {
     "name": "stdin",
     "output_type": "stream",
     "text": [
      "Enter the number 52452\n"
     ]
    },
    {
     "name": "stdout",
     "output_type": "stream",
     "text": [
      "52452 is even number\n"
     ]
    }
   ],
   "source": [
    "oddEven()"
   ]
  },
  {
   "cell_type": "code",
   "execution_count": 6,
   "id": "86413368-c3f2-46fa-83d4-b77489224fd3",
   "metadata": {},
   "outputs": [],
   "source": [
    "def Percentage():\n",
    "    Subject1=int(input(\"Enter the sub1\"))\n",
    "    Subject2=int(input(\"Enter the sub2\"))\n",
    "    Subject3=int(input(\"Enter the sub3\"))\n",
    "    Subject4=int(input(\"Enter the sub4\"))\n",
    "    Subject5=int(input(\"Enter the sub5\"))\n",
    "    Total=Subject1+Subject2+Subject3+Subject4+Subject5\n",
    "    print(\"Total:\",Total)\n",
    "    percentage=Total/5\n",
    "    print(\"percentage:\",percentage)\n",
    "    "
   ]
  },
  {
   "cell_type": "code",
   "execution_count": 7,
   "id": "1ab0de60-6240-4f16-84b2-bc80efca299d",
   "metadata": {},
   "outputs": [
    {
     "name": "stdin",
     "output_type": "stream",
     "text": [
      "Enter the sub1 98\n",
      "Enter the sub2 85\n",
      "Enter the sub3 96\n",
      "Enter the sub4 74\n",
      "Enter the sub5 85\n"
     ]
    },
    {
     "name": "stdout",
     "output_type": "stream",
     "text": [
      "Total: 438\n",
      "percentage: 87.6\n"
     ]
    }
   ],
   "source": [
    "Percentage()"
   ]
  },
  {
   "cell_type": "code",
   "execution_count": 8,
   "id": "3e14bedd-6f1e-4329-99fa-cc630c3a058a",
   "metadata": {},
   "outputs": [],
   "source": [
    "def MarriageEligibility():\n",
    "    Gender=input(\"Enter the Gender\")\n",
    "    Age=int(input(\"Enter the Age\"))\n",
    "    if ((Gender==\"Male\") & (Age>=21)):\n",
    "        print(\"ELIGIBLE\")\n",
    "    elif ((Gender==\"Female\") & (Age>=18)):\n",
    "        print(\"ELIGIBLE\")\n",
    "    else:\n",
    "        print(\"NOT ELIGIBLE\")\n",
    "    "
   ]
  },
  {
   "cell_type": "code",
   "execution_count": 9,
   "id": "e796de66-0d56-48df-a3e9-f54ec11cdeb6",
   "metadata": {},
   "outputs": [
    {
     "name": "stdin",
     "output_type": "stream",
     "text": [
      "Enter the Gender Male\n",
      "Enter the Age 18\n"
     ]
    },
    {
     "name": "stdout",
     "output_type": "stream",
     "text": [
      "NOT ELIGIBLE\n"
     ]
    }
   ],
   "source": [
    "MarriageEligibility()"
   ]
  },
  {
   "cell_type": "code",
   "execution_count": 10,
   "id": "20c6fc79-c08f-494f-973f-0aa13afacaa7",
   "metadata": {},
   "outputs": [
    {
     "name": "stdin",
     "output_type": "stream",
     "text": [
      "Height1 58\n",
      "Breadth1 69\n"
     ]
    },
    {
     "name": "stdout",
     "output_type": "stream",
     "text": [
      "AreaFormula:(Height*Breadth)/2\n",
      "Area of Triangle: 2001.0\n"
     ]
    },
    {
     "name": "stdin",
     "output_type": "stream",
     "text": [
      "Height1 63\n",
      "Height2 74\n",
      "Breadth 85\n"
     ]
    },
    {
     "name": "stdout",
     "output_type": "stream",
     "text": [
      "PerimeterFormula:Height1+Height2+Breadth\n",
      "Perimeter of Triangle: 222\n"
     ]
    }
   ],
   "source": [
    "Height=int(input(\"Height1\"))\n",
    "Breadth=int(input(\"Breadth1\"))\n",
    "AreaFormula=(Height*Breadth)/2\n",
    "print(\"AreaFormula:(Height*Breadth)/2\")\n",
    "print(\"Area of Triangle:\",AreaFormula)\n",
    "Height2=int(input(\"Height1\"))\n",
    "Height3=int(input(\"Height2\"))\n",
    "Breadth2=int(input(\"Breadth\"))\n",
    "PerimeterFormula=Height2+Height3+Breadth2\n",
    "print(\"PerimeterFormula:Height1+Height2+Breadth\")\n",
    "print(\"Perimeter of Triangle:\",PerimeterFormula)"
   ]
  },
  {
   "cell_type": "code",
   "execution_count": 21,
   "id": "5c5d5399-7ebb-4698-b9b2-27177554e101",
   "metadata": {},
   "outputs": [],
   "source": [
    "def Trianagle():\n",
    "    Height=int(input(\"Height1\"))\n",
    "    Breadth=int(input(\"Breadth1\"))\n",
    "    AreaFormula=(Height*Breadth)/2\n",
    "    print(\"AreaFormula:(Height*Breadth)/2\")\n",
    "    print(\"Area of Triangle:\",AreaFormula)\n",
    "    Height2=int(input(\"Height1\"))\n",
    "    Height3=int(input(\"Height2\"))\n",
    "    Breadth2=int(input(\"Breadth\"))\n",
    "    PerimeterFormula=Height2+Height3+Breadth2\n",
    "    print(\"PerimeterFormula:Height1+Height2+Breadth\")\n",
    "    print(\"Perimeter of Triangle:\",PerimeterFormula)"
   ]
  },
  {
   "cell_type": "code",
   "execution_count": 23,
   "id": "2c8d8335-882f-41f8-8c7d-b94288d62778",
   "metadata": {},
   "outputs": [
    {
     "name": "stdin",
     "output_type": "stream",
     "text": [
      "Height1 85\n",
      "Breadth1 96\n"
     ]
    },
    {
     "name": "stdout",
     "output_type": "stream",
     "text": [
      "AreaFormula:(Height*Breadth)/2\n",
      "Area of Triangle: 4080.0\n"
     ]
    },
    {
     "name": "stdin",
     "output_type": "stream",
     "text": [
      "Height1 85\n",
      "Height2 45\n",
      "Breadth 63\n"
     ]
    },
    {
     "name": "stdout",
     "output_type": "stream",
     "text": [
      "PerimeterFormula:Height1+Height2+Breadth\n",
      "Perimeter of Triangle: 193\n"
     ]
    }
   ],
   "source": [
    "Trianagle()"
   ]
  },
  {
   "cell_type": "code",
   "execution_count": null,
   "id": "f0a7500e-e65f-47cb-9a8c-288381e5ca64",
   "metadata": {},
   "outputs": [],
   "source": []
  }
 ],
 "metadata": {
  "kernelspec": {
   "display_name": "Python 3 (ipykernel)",
   "language": "python",
   "name": "python3"
  },
  "language_info": {
   "codemirror_mode": {
    "name": "ipython",
    "version": 3
   },
   "file_extension": ".py",
   "mimetype": "text/x-python",
   "name": "python",
   "nbconvert_exporter": "python",
   "pygments_lexer": "ipython3",
   "version": "3.12.4"
  }
 },
 "nbformat": 4,
 "nbformat_minor": 5
}
