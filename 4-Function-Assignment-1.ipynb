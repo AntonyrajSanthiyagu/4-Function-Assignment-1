{
 "cells": [
  {
   "cell_type": "code",
   "execution_count": null,
   "id": "f046c9bf-b58b-408a-80a4-353c24c3eb69",
   "metadata": {},
   "outputs": [],
   "source": []
  },
  {
   "cell_type": "code",
   "execution_count": 48,
   "id": "17158d14-3b5e-499b-8f0c-7ab86deb6b89",
   "metadata": {},
   "outputs": [
    {
     "name": "stdout",
     "output_type": "stream",
     "text": [
      "19 is odd\n",
      "25 is odd\n",
      "1 is odd\n"
     ]
    }
   ],
   "source": [
    "List=[20,10,16,19,25,1,276,188]\n",
    "for odd in List:\n",
    " if((odd % 2)== 1):\n",
    "    print(odd,\"is odd\")"
   ]
  },
  {
   "cell_type": "code",
   "execution_count": 52,
   "id": "e374f25a-4ab8-48ac-bc60-d5fa87501b93",
   "metadata": {},
   "outputs": [],
   "source": [
    "def odd():\n",
    "    List=[20,10,16,19,25,1,276,188]\n",
    "    for odd in List:\n",
    "        if((odd % 2)== 1):\n",
    "            print(odd,\"is odd\")"
   ]
  },
  {
   "cell_type": "code",
   "execution_count": 54,
   "id": "2a9234fe-0f08-4629-8a34-11a1cbf809d3",
   "metadata": {},
   "outputs": [
    {
     "name": "stdout",
     "output_type": "stream",
     "text": [
      "19 is odd\n",
      "25 is odd\n",
      "1 is odd\n"
     ]
    }
   ],
   "source": [
    "odd()"
   ]
  },
  {
   "cell_type": "code",
   "execution_count": 56,
   "id": "c51dcd9f-8dbc-43d3-8cc5-7050ed2b248f",
   "metadata": {},
   "outputs": [
    {
     "name": "stdout",
     "output_type": "stream",
     "text": [
      "20 is even\n",
      "10 is even\n",
      "16 is even\n",
      "276 is even\n",
      "188 is even\n"
     ]
    }
   ],
   "source": [
    "List=[20,10,16,19,25,1,276,188]\n",
    "for even in List:\n",
    " if((even % 2)== 0):\n",
    "    print(even,\"is even\")"
   ]
  },
  {
   "cell_type": "code",
   "execution_count": 58,
   "id": "4d2a2143-7945-4545-9ecb-8154e78da667",
   "metadata": {},
   "outputs": [],
   "source": [
    "def even():\n",
    "    List=[20,10,16,19,25,1,276,188]\n",
    "    for even in List:\n",
    "        if((even % 2)== 0):\n",
    "            print(even,\"is even\")"
   ]
  },
  {
   "cell_type": "code",
   "execution_count": 60,
   "id": "2051b9b2-a6f4-486b-944f-af6a796b10fb",
   "metadata": {},
   "outputs": [
    {
     "name": "stdout",
     "output_type": "stream",
     "text": [
      "20 is even\n",
      "10 is even\n",
      "16 is even\n",
      "276 is even\n",
      "188 is even\n"
     ]
    }
   ],
   "source": [
    "even()"
   ]
  },
  {
   "cell_type": "code",
   "execution_count": 113,
   "id": "a9030600-c247-4a2e-8d09-f5b847e470b3",
   "metadata": {},
   "outputs": [
    {
     "name": "stdin",
     "output_type": "stream",
     "text": [
      "Enter the age: 20\n"
     ]
    },
    {
     "name": "stdout",
     "output_type": "stream",
     "text": [
      "NOT ELIGIBLE\n"
     ]
    }
   ],
   "source": [
    "age = int(input(\"Enter the age:\"))\n",
    "if age<21:\n",
    "   print(\"NOT ELIGIBLE\")\n",
    "else:\n",
    "    print(\"ELIGIBLE\")   "
   ]
  },
  {
   "cell_type": "code",
   "execution_count": 123,
   "id": "a4804e3c-4a8a-4cad-9d7d-ac43d7d5209b",
   "metadata": {},
   "outputs": [
    {
     "name": "stdout",
     "output_type": "stream",
     "text": [
      "Your Gender:Male\n"
     ]
    },
    {
     "name": "stdin",
     "output_type": "stream",
     "text": [
      "Your age: 20\n"
     ]
    },
    {
     "name": "stdout",
     "output_type": "stream",
     "text": [
      "NOT ELIGIBLE\n"
     ]
    }
   ],
   "source": [
    "print(\"Your Gender:Male\")\n",
    "age = int(input(\"Your age:\"))\n",
    "if age<21:\n",
    "   print(\"NOT ELIGIBLE\")\n",
    "else:\n",
    "    print(\"ELIGIBLE\")"
   ]
  },
  {
   "cell_type": "code",
   "execution_count": 133,
   "id": "77d715aa-a47e-48a4-a382-973ed51b25e8",
   "metadata": {},
   "outputs": [],
   "source": [
    "def EligibilityForMarriage():\n",
    "    print(\"Your Gender:Male\")\n",
    "    age = int(input(\"Your age:\"))\n",
    "    if age<21:\n",
    "        print(\"NOT ELIGIBLE\")\n",
    "    else:\n",
    "        print(\"ELIGIBLE\")"
   ]
  },
  {
   "cell_type": "code",
   "execution_count": 139,
   "id": "613dbb37-24b5-4406-a989-1ce3705395ab",
   "metadata": {},
   "outputs": [
    {
     "name": "stdout",
     "output_type": "stream",
     "text": [
      "Your Gender:Male\n"
     ]
    },
    {
     "name": "stdin",
     "output_type": "stream",
     "text": [
      "Your age: 20\n"
     ]
    },
    {
     "name": "stdout",
     "output_type": "stream",
     "text": [
      "NOT ELIGIBLE\n"
     ]
    }
   ],
   "source": [
    "EligibilityForMarriage()"
   ]
  },
  {
   "cell_type": "code",
   "execution_count": 158,
   "id": "d0d20d93-6277-416a-9959-a7fbe39e5e43",
   "metadata": {},
   "outputs": [
    {
     "name": "stdout",
     "output_type": "stream",
     "text": [
      "Subject1=98\n",
      "Subject2=87\n",
      "Subject3=95\n",
      "Subject4=95\n",
      "Subject5=93\n",
      "Total: 468\n"
     ]
    },
    {
     "ename": "NameError",
     "evalue": "name 'Total' is not defined",
     "output_type": "error",
     "traceback": [
      "\u001b[1;31m---------------------------------------------------------------------------\u001b[0m",
      "\u001b[1;31mNameError\u001b[0m                                 Traceback (most recent call last)",
      "Cell \u001b[1;32mIn[158], line 13\u001b[0m\n\u001b[0;32m     11\u001b[0m add\u001b[38;5;241m=\u001b[39mSubject1\u001b[38;5;241m+\u001b[39mSubject2\u001b[38;5;241m+\u001b[39mSubject3\u001b[38;5;241m+\u001b[39mSubject4\u001b[38;5;241m+\u001b[39mSubject5\n\u001b[0;32m     12\u001b[0m \u001b[38;5;28mprint\u001b[39m(\u001b[38;5;124m\"\u001b[39m\u001b[38;5;124mTotal:\u001b[39m\u001b[38;5;124m\"\u001b[39m,add)\n\u001b[1;32m---> 13\u001b[0m percentage\u001b[38;5;241m=\u001b[39mTotal\u001b[38;5;241m/\u001b[39m\u001b[38;5;241m5\u001b[39m\n",
      "\u001b[1;31mNameError\u001b[0m: name 'Total' is not defined"
     ]
    }
   ],
   "source": [
    "Subject1=98\n",
    "print(\"Subject1=98\")\n",
    "Subject2=87\n",
    "print(\"Subject2=87\")\n",
    "Subject3=95\n",
    "print(\"Subject3=95\")\n",
    "Subject4=95\n",
    "print(\"Subject4=95\")\n",
    "Subject5=93\n",
    "print(\"Subject5=93\")\n",
    "add=Subject1+Subject2+Subject3+Subject4+Subject5\n",
    "print(\"Total:\",add)\n",
    "percentage=Total/5\n",
    "\n"
   ]
  },
  {
   "cell_type": "code",
   "execution_count": null,
   "id": "2181a7ce-6072-4b03-8475-8104bdbe5c50",
   "metadata": {},
   "outputs": [],
   "source": []
  },
  {
   "cell_type": "code",
   "execution_count": null,
   "id": "2936d879-ef9e-451b-b3b1-fb8b114af925",
   "metadata": {},
   "outputs": [],
   "source": []
  }
 ],
 "metadata": {
  "kernelspec": {
   "display_name": "Python 3 (ipykernel)",
   "language": "python",
   "name": "python3"
  },
  "language_info": {
   "codemirror_mode": {
    "name": "ipython",
    "version": 3
   },
   "file_extension": ".py",
   "mimetype": "text/x-python",
   "name": "python",
   "nbconvert_exporter": "python",
   "pygments_lexer": "ipython3",
   "version": "3.12.4"
  }
 },
 "nbformat": 4,
 "nbformat_minor": 5
}
